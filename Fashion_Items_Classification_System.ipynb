{
  "nbformat": 4,
  "nbformat_minor": 0,
  "metadata": {
    "colab": {
      "provenance": [],
      "gpuType": "T4",
      "authorship_tag": "ABX9TyNN71GN4lscKo0cVmHXM4PQ",
      "include_colab_link": true
    },
    "kernelspec": {
      "name": "python3",
      "display_name": "Python 3"
    },
    "language_info": {
      "name": "python"
    },
    "accelerator": "GPU"
  },
  "cells": [
    {
      "cell_type": "markdown",
      "metadata": {
        "id": "view-in-github",
        "colab_type": "text"
      },
      "source": [
        "<a href=\"https://colab.research.google.com/github/Auzek2002/Fashion_Items_Classification_System/blob/main/Fashion_Items_Classification_System.ipynb\" target=\"_parent\"><img src=\"https://colab.research.google.com/assets/colab-badge.svg\" alt=\"Open In Colab\"/></a>"
      ]
    },
    {
      "cell_type": "markdown",
      "source": [
        "# Importing Libs:"
      ],
      "metadata": {
        "id": "Ks_2khdcogOA"
      }
    },
    {
      "cell_type": "code",
      "execution_count": 68,
      "metadata": {
        "id": "KRxBhfrvoYl_"
      },
      "outputs": [],
      "source": [
        "import numpy as np\n",
        "import pandas as pd\n",
        "import tensorflow as tf\n",
        "import matplotlib.pyplot as plt\n",
        "import cv2 as cv\n",
        "from tensorflow.keras import datasets,layers,Sequential\n",
        "from tensorflow.keras.layers import Conv2D,MaxPooling2D,Dense,Flatten,Dropout"
      ]
    },
    {
      "cell_type": "markdown",
      "source": [
        "# Installing Keras Tuner (for hp tuning)"
      ],
      "metadata": {
        "id": "fv_tQyHipTE-"
      }
    },
    {
      "cell_type": "code",
      "source": [
        "!pip install keras-tuner"
      ],
      "metadata": {
        "colab": {
          "base_uri": "https://localhost:8080/"
        },
        "id": "7GXy8h2lpEig",
        "outputId": "0ebf511c-0025-42ac-9bbd-53ed99b3bae6"
      },
      "execution_count": 2,
      "outputs": [
        {
          "output_type": "stream",
          "name": "stdout",
          "text": [
            "Collecting keras-tuner\n",
            "  Downloading keras_tuner-1.4.6-py3-none-any.whl (128 kB)\n",
            "\u001b[?25l     \u001b[90m━━━━━━━━━━━━━━━━━━━━━━━━━━━━━━━━━━━━━━━━\u001b[0m \u001b[32m0.0/128.9 kB\u001b[0m \u001b[31m?\u001b[0m eta \u001b[36m-:--:--\u001b[0m\r\u001b[2K     \u001b[90m━━━━━━━━━━━━━━━━━━━━━━━━━━━━━━━━━━━━━━━━\u001b[0m \u001b[32m128.9/128.9 kB\u001b[0m \u001b[31m4.3 MB/s\u001b[0m eta \u001b[36m0:00:00\u001b[0m\n",
            "\u001b[?25hRequirement already satisfied: keras in /usr/local/lib/python3.10/dist-packages (from keras-tuner) (2.15.0)\n",
            "Requirement already satisfied: packaging in /usr/local/lib/python3.10/dist-packages (from keras-tuner) (23.2)\n",
            "Requirement already satisfied: requests in /usr/local/lib/python3.10/dist-packages (from keras-tuner) (2.31.0)\n",
            "Collecting kt-legacy (from keras-tuner)\n",
            "  Downloading kt_legacy-1.0.5-py3-none-any.whl (9.6 kB)\n",
            "Requirement already satisfied: charset-normalizer<4,>=2 in /usr/local/lib/python3.10/dist-packages (from requests->keras-tuner) (3.3.2)\n",
            "Requirement already satisfied: idna<4,>=2.5 in /usr/local/lib/python3.10/dist-packages (from requests->keras-tuner) (3.6)\n",
            "Requirement already satisfied: urllib3<3,>=1.21.1 in /usr/local/lib/python3.10/dist-packages (from requests->keras-tuner) (2.0.7)\n",
            "Requirement already satisfied: certifi>=2017.4.17 in /usr/local/lib/python3.10/dist-packages (from requests->keras-tuner) (2024.2.2)\n",
            "Installing collected packages: kt-legacy, keras-tuner\n",
            "Successfully installed keras-tuner-1.4.6 kt-legacy-1.0.5\n"
          ]
        }
      ]
    },
    {
      "cell_type": "code",
      "source": [
        "print(tf.__version__)"
      ],
      "metadata": {
        "colab": {
          "base_uri": "https://localhost:8080/"
        },
        "id": "kgCZ6WCopbIM",
        "outputId": "afb7da6a-a993-4f28-b3b0-4daea5c3b17f"
      },
      "execution_count": 3,
      "outputs": [
        {
          "output_type": "stream",
          "name": "stdout",
          "text": [
            "2.15.0\n"
          ]
        }
      ]
    },
    {
      "cell_type": "markdown",
      "source": [
        "# Loading the DataSet"
      ],
      "metadata": {
        "id": "JUuB2WyJpxDr"
      }
    },
    {
      "cell_type": "code",
      "source": [
        "fashion_dataSet = datasets.fashion_mnist"
      ],
      "metadata": {
        "id": "1WnVjDBvprXz"
      },
      "execution_count": 4,
      "outputs": []
    },
    {
      "cell_type": "code",
      "source": [
        "(x_train,y_train) , (x_test,y_test) = fashion_dataSet.load_data()"
      ],
      "metadata": {
        "colab": {
          "base_uri": "https://localhost:8080/"
        },
        "id": "teXb50EkqG1E",
        "outputId": "d0b2cdbc-d4be-4cbf-ee91-6310500746d9"
      },
      "execution_count": 5,
      "outputs": [
        {
          "output_type": "stream",
          "name": "stdout",
          "text": [
            "Downloading data from https://storage.googleapis.com/tensorflow/tf-keras-datasets/train-labels-idx1-ubyte.gz\n",
            "29515/29515 [==============================] - 0s 1us/step\n",
            "Downloading data from https://storage.googleapis.com/tensorflow/tf-keras-datasets/train-images-idx3-ubyte.gz\n",
            "26421880/26421880 [==============================] - 2s 0us/step\n",
            "Downloading data from https://storage.googleapis.com/tensorflow/tf-keras-datasets/t10k-labels-idx1-ubyte.gz\n",
            "5148/5148 [==============================] - 0s 0us/step\n",
            "Downloading data from https://storage.googleapis.com/tensorflow/tf-keras-datasets/t10k-images-idx3-ubyte.gz\n",
            "4422102/4422102 [==============================] - 1s 0us/step\n"
          ]
        }
      ]
    },
    {
      "cell_type": "markdown",
      "source": [
        "# Exploring the DataSet"
      ],
      "metadata": {
        "id": "2CmcDDeFqSW2"
      }
    },
    {
      "cell_type": "code",
      "source": [
        "x_train.shape"
      ],
      "metadata": {
        "colab": {
          "base_uri": "https://localhost:8080/"
        },
        "id": "i7iRgopXqOhS",
        "outputId": "5d5bac77-92d5-4e4a-cae5-2e0bb03425f7"
      },
      "execution_count": 6,
      "outputs": [
        {
          "output_type": "execute_result",
          "data": {
            "text/plain": [
              "(60000, 28, 28)"
            ]
          },
          "metadata": {},
          "execution_count": 6
        }
      ]
    },
    {
      "cell_type": "code",
      "source": [
        "y_train.shape"
      ],
      "metadata": {
        "colab": {
          "base_uri": "https://localhost:8080/"
        },
        "id": "SA868goAqZ_y",
        "outputId": "039f70ce-7c84-4444-f41b-5e041ee39ac3"
      },
      "execution_count": 7,
      "outputs": [
        {
          "output_type": "execute_result",
          "data": {
            "text/plain": [
              "(60000,)"
            ]
          },
          "metadata": {},
          "execution_count": 7
        }
      ]
    },
    {
      "cell_type": "code",
      "source": [
        "x_test.shape"
      ],
      "metadata": {
        "colab": {
          "base_uri": "https://localhost:8080/"
        },
        "id": "J1WwQzIxqeex",
        "outputId": "88256475-0880-4d7a-af9d-be4384491366"
      },
      "execution_count": 8,
      "outputs": [
        {
          "output_type": "execute_result",
          "data": {
            "text/plain": [
              "(10000, 28, 28)"
            ]
          },
          "metadata": {},
          "execution_count": 8
        }
      ]
    },
    {
      "cell_type": "code",
      "source": [
        "y_test.shape"
      ],
      "metadata": {
        "colab": {
          "base_uri": "https://localhost:8080/"
        },
        "id": "sAzoNp45qhY5",
        "outputId": "14f5f13a-8b84-415b-f7f8-13a8e705fec5"
      },
      "execution_count": 9,
      "outputs": [
        {
          "output_type": "execute_result",
          "data": {
            "text/plain": [
              "(10000,)"
            ]
          },
          "metadata": {},
          "execution_count": 9
        }
      ]
    },
    {
      "cell_type": "markdown",
      "source": [
        "## **There are 60,000 training examples and 10,000 testing examples. Each image is a 28 x 28 pixel image**"
      ],
      "metadata": {
        "id": "JM-PPf5wqmWO"
      }
    },
    {
      "cell_type": "markdown",
      "source": [
        "# Displaying some Images"
      ],
      "metadata": {
        "id": "z1gseX5Cq4bb"
      }
    },
    {
      "cell_type": "code",
      "source": [
        "class_names= ['T-shirt','Trouser','Pullover','Dress','Coat','Sandal','Shirt','Sneaker','Bag','Ankle boot']"
      ],
      "metadata": {
        "id": "mfbKA8Y02SXe"
      },
      "execution_count": 10,
      "outputs": []
    },
    {
      "cell_type": "code",
      "source": [
        "for i in range(16):\n",
        "  plt.subplot(4,4,i+1)\n",
        "  plt.xticks([])\n",
        "  plt.yticks([])\n",
        "  plt.imshow(x_train[i],cmap=plt.cm.binary)"
      ],
      "metadata": {
        "colab": {
          "base_uri": "https://localhost:8080/",
          "height": 406
        },
        "id": "B8GFVCiSqkIJ",
        "outputId": "9b967a4b-6e25-4db9-ff12-677a054fb8a3"
      },
      "execution_count": 11,
      "outputs": [
        {
          "output_type": "display_data",
          "data": {
            "text/plain": [
              "<Figure size 640x480 with 16 Axes>"
            ],
            "image/png": "[encoded data removed]"
          },
          "metadata": {}
        }
      ]
    },
    {
      "cell_type": "markdown",
      "source": [
        "# Normalizing the Data"
      ],
      "metadata": {
        "id": "fopWPdH9raY9"
      }
    },
    {
      "cell_type": "code",
      "source": [
        "print(f\"Max pixel value is: {np.max(x_train)} and Mix pixel value is: {np.min(x_train)}\")"
      ],
      "metadata": {
        "colab": {
          "base_uri": "https://localhost:8080/"
        },
        "id": "4o3wZaRkrIk3",
        "outputId": "32f50b15-ddbc-4e00-e539-be4bc6bdc668"
      },
      "execution_count": 12,
      "outputs": [
        {
          "output_type": "stream",
          "name": "stdout",
          "text": [
            "Max pixel value is: 255 and Mix pixel value is: 0\n"
          ]
        }
      ]
    },
    {
      "cell_type": "code",
      "source": [
        "#divide by 255 to normalize the data:\n",
        "x_train , x_test = x_train/255.0 , x_test/255.0"
      ],
      "metadata": {
        "id": "2Fxe3Rzkrmhm"
      },
      "execution_count": 13,
      "outputs": []
    },
    {
      "cell_type": "markdown",
      "source": [
        "# Reshaping the images"
      ],
      "metadata": {
        "id": "oGckWxe9sFjq"
      }
    },
    {
      "cell_type": "code",
      "source": [
        "x_train = x_train.reshape(len(x_train),28,28,1)\n",
        "x_test = x_test.reshape(len(x_test),28,28,1)"
      ],
      "metadata": {
        "id": "oTGiJpRdr_Jt"
      },
      "execution_count": 14,
      "outputs": []
    },
    {
      "cell_type": "code",
      "source": [
        "x_train.shape"
      ],
      "metadata": {
        "colab": {
          "base_uri": "https://localhost:8080/"
        },
        "id": "iuJFDuudsafx",
        "outputId": "4294428a-bc63-4b7b-d2d6-462adfa57e84"
      },
      "execution_count": 15,
      "outputs": [
        {
          "output_type": "execute_result",
          "data": {
            "text/plain": [
              "(60000, 28, 28, 1)"
            ]
          },
          "metadata": {},
          "execution_count": 15
        }
      ]
    },
    {
      "cell_type": "code",
      "source": [
        "x_test.shape"
      ],
      "metadata": {
        "colab": {
          "base_uri": "https://localhost:8080/"
        },
        "id": "MtvxOE7cscTL",
        "outputId": "c20829db-9ce2-4c1a-e490-3015ce4033d7"
      },
      "execution_count": 16,
      "outputs": [
        {
          "output_type": "execute_result",
          "data": {
            "text/plain": [
              "(10000, 28, 28, 1)"
            ]
          },
          "metadata": {},
          "execution_count": 16
        }
      ]
    },
    {
      "cell_type": "markdown",
      "source": [
        "# Choosing the best model using keras tuner"
      ],
      "metadata": {
        "id": "KlJ41zUDsq5O"
      }
    },
    {
      "cell_type": "code",
      "source": [
        "def build_model(hp):\n",
        "  model = Sequential([\n",
        "    layers.Conv2D(\n",
        "        filters=hp.Int('conv_1_filter', min_value=8, max_value=1024, step=16),\n",
        "        kernel_size=hp.Choice('conv_1_kernel', values = [3,5,7]),\n",
        "        activation=hp.Choice('conv_1_activation',values= ['relu','selu','tanh','elu','sigmoid']),\n",
        "        input_shape=(28,28,1)\n",
        "    ),\n",
        "    MaxPooling2D((2,2)),\n",
        "    layers.Conv2D(\n",
        "        filters=hp.Int('conv_2_filter', min_value=8, max_value=512, step=8),\n",
        "        kernel_size=hp.Choice('conv_2_kernel', values = [3,5,7]),\n",
        "        activation=hp.Choice('conv_2_activation',values= ['relu','selu','tanh','elu','sigmoid'])\n",
        "    ),\n",
        "    MaxPooling2D((2,2)),\n",
        "    layers.Flatten(),\n",
        "    layers.Dense(\n",
        "        units=hp.Int('dense_1_units', min_value=32, max_value=512, step=16),\n",
        "        activation=hp.Choice('dense_1_activation',values= ['relu','selu','tanh','elu','sigmoid'])\n",
        "    ),\n",
        "    layers.Dense(10, activation='softmax')\n",
        "  ])\n",
        "\n",
        "  model.compile(optimizer=tf.keras.optimizers.Adam(hp.Choice('learning_rate', values=[0.0001,0.0003,0.001,0.003,0.01])),\n",
        "              loss='sparse_categorical_crossentropy',\n",
        "              metrics=['accuracy'])\n",
        "\n",
        "  return model"
      ],
      "metadata": {
        "id": "cDgWZSHdsfWi"
      },
      "execution_count": 17,
      "outputs": []
    },
    {
      "cell_type": "code",
      "source": [
        "from kerastuner import RandomSearch\n",
        "from kerastuner.engine.hyperparameters import HyperParameters"
      ],
      "metadata": {
        "id": "o6E1C2m5u0gc",
        "colab": {
          "base_uri": "https://localhost:8080/"
        },
        "outputId": "57d6d01f-e486-415f-c323-8c9966245953"
      },
      "execution_count": 18,
      "outputs": [
        {
          "output_type": "stream",
          "name": "stderr",
          "text": [
            "<ipython-input-18-2bbfbe7dae29>:1: DeprecationWarning: `import kerastuner` is deprecated, please use `import keras_tuner`.\n",
            "  from kerastuner import RandomSearch\n"
          ]
        }
      ]
    },
    {
      "cell_type": "markdown",
      "source": [
        "## **Search for the best Hyperparameters**"
      ],
      "metadata": {
        "id": "V1BMOP-mvgcB"
      }
    },
    {
      "cell_type": "code",
      "source": [
        "tuner_search = RandomSearch(build_model,objective='val_accuracy',max_trials=10,directory='output',project_name='Fashion_items_Classification_System')"
      ],
      "metadata": {
        "id": "oXla3UhivTC7"
      },
      "execution_count": 19,
      "outputs": []
    },
    {
      "cell_type": "code",
      "source": [
        "tuner_search.search(x_train,y_train,epochs=3,validation_split=0.1)"
      ],
      "metadata": {
        "colab": {
          "base_uri": "https://localhost:8080/"
        },
        "id": "AY0BEnYTwaiv",
        "outputId": "ded73ce0-8b13-446d-eb8f-f39cf70e2e99"
      },
      "execution_count": 20,
      "outputs": [
        {
          "output_type": "stream",
          "name": "stdout",
          "text": [
            "Trial 10 Complete [00h 00m 40s]\n",
            "val_accuracy: 0.8131666779518127\n",
            "\n",
            "Best val_accuracy So Far: 0.9073333144187927\n",
            "Total elapsed time: 00h 13m 06s\n"
          ]
        }
      ]
    },
    {
      "cell_type": "markdown",
      "source": [
        "## **Extracting the best model**"
      ],
      "metadata": {
        "id": "XuULrGob0ge4"
      }
    },
    {
      "cell_type": "code",
      "source": [
        "model = tuner_search.get_best_models(num_models=1)[0]\n"
      ],
      "metadata": {
        "id": "_TLp9Ho_ynUf"
      },
      "execution_count": 21,
      "outputs": []
    },
    {
      "cell_type": "code",
      "source": [
        "m = tuner_search.get_best_models(num_models=1)[0]"
      ],
      "metadata": {
        "id": "SSoxDEPFudWe"
      },
      "execution_count": 26,
      "outputs": []
    },
    {
      "cell_type": "code",
      "source": [
        "model.summary()"
      ],
      "metadata": {
        "colab": {
          "base_uri": "https://localhost:8080/"
        },
        "id": "Lz-dHT7K0w70",
        "outputId": "a883fed6-150a-4c98-aaa2-c52433f02c0e"
      },
      "execution_count": 22,
      "outputs": [
        {
          "output_type": "stream",
          "name": "stdout",
          "text": [
            "Model: \"sequential\"\n",
            "_________________________________________________________________\n",
            " Layer (type)                Output Shape              Param #   \n",
            "=================================================================\n",
            " conv2d (Conv2D)             (None, 26, 26, 840)       8400      \n",
            "                                                                 \n",
            " max_pooling2d (MaxPooling2  (None, 13, 13, 840)       0         \n",
            " D)                                                              \n",
            "                                                                 \n",
            " conv2d_1 (Conv2D)           (None, 11, 11, 120)       907320    \n",
            "                                                                 \n",
            " max_pooling2d_1 (MaxPoolin  (None, 5, 5, 120)         0         \n",
            " g2D)                                                            \n",
            "                                                                 \n",
            " flatten (Flatten)           (None, 3000)              0         \n",
            "                                                                 \n",
            " dense (Dense)               (None, 256)               768256    \n",
            "                                                                 \n",
            " dense_1 (Dense)             (None, 10)                2570      \n",
            "                                                                 \n",
            "=================================================================\n",
            "Total params: 1686546 (6.43 MB)\n",
            "Trainable params: 1686546 (6.43 MB)\n",
            "Non-trainable params: 0 (0.00 Byte)\n",
            "_________________________________________________________________\n"
          ]
        }
      ]
    },
    {
      "cell_type": "code",
      "source": [
        "m.summary()"
      ],
      "metadata": {
        "colab": {
          "base_uri": "https://localhost:8080/"
        },
        "id": "-Tlx5aDRufeZ",
        "outputId": "9a055969-8a26-44ca-ca6f-90bf9527500c"
      },
      "execution_count": 27,
      "outputs": [
        {
          "output_type": "stream",
          "name": "stdout",
          "text": [
            "Model: \"sequential\"\n",
            "_________________________________________________________________\n",
            " Layer (type)                Output Shape              Param #   \n",
            "=================================================================\n",
            " conv2d (Conv2D)             (None, 26, 26, 840)       8400      \n",
            "                                                                 \n",
            " max_pooling2d (MaxPooling2  (None, 13, 13, 840)       0         \n",
            " D)                                                              \n",
            "                                                                 \n",
            " conv2d_1 (Conv2D)           (None, 11, 11, 120)       907320    \n",
            "                                                                 \n",
            " max_pooling2d_1 (MaxPoolin  (None, 5, 5, 120)         0         \n",
            " g2D)                                                            \n",
            "                                                                 \n",
            " flatten (Flatten)           (None, 3000)              0         \n",
            "                                                                 \n",
            " dense (Dense)               (None, 256)               768256    \n",
            "                                                                 \n",
            " dense_1 (Dense)             (None, 10)                2570      \n",
            "                                                                 \n",
            "=================================================================\n",
            "Total params: 1686546 (6.43 MB)\n",
            "Trainable params: 1686546 (6.43 MB)\n",
            "Non-trainable params: 0 (0.00 Byte)\n",
            "_________________________________________________________________\n"
          ]
        }
      ]
    },
    {
      "cell_type": "markdown",
      "source": [
        "# Fitting the Model"
      ],
      "metadata": {
        "id": "WNThjJdn5mwL"
      }
    },
    {
      "cell_type": "markdown",
      "source": [
        "## **With 5 Epochs:**"
      ],
      "metadata": {
        "id": "j2qhuOLeu7Qr"
      }
    },
    {
      "cell_type": "code",
      "source": [
        "model.fit(x_train,y_train,validation_data=(x_test,y_test),epochs=5,initial_epoch=3)"
      ],
      "metadata": {
        "colab": {
          "base_uri": "https://localhost:8080/"
        },
        "id": "QGiFMuIl0yy_",
        "outputId": "897a4938-5e91-49be-b6a8-c8d346bb477e"
      },
      "execution_count": 23,
      "outputs": [
        {
          "output_type": "stream",
          "name": "stdout",
          "text": [
            "Epoch 4/5\n",
            "1875/1875 [==============================] - 24s 12ms/step - loss: 0.2044 - accuracy: 0.9254 - val_loss: 0.2633 - val_accuracy: 0.9042\n",
            "Epoch 5/5\n",
            "1875/1875 [==============================] - 23s 12ms/step - loss: 0.1711 - accuracy: 0.9378 - val_loss: 0.2522 - val_accuracy: 0.9071\n"
          ]
        },
        {
          "output_type": "execute_result",
          "data": {
            "text/plain": [
              "<keras.src.callbacks.History at 0x7a1070c15630>"
            ]
          },
          "metadata": {},
          "execution_count": 23
        }
      ]
    },
    {
      "cell_type": "markdown",
      "source": [
        "## **With 20 Epochs:**"
      ],
      "metadata": {
        "id": "IKt2Ob75vAY-"
      }
    },
    {
      "cell_type": "code",
      "source": [
        "m.fit(x_train,y_train,validation_data=(x_test,y_test),epochs=20,initial_epoch=3)"
      ],
      "metadata": {
        "colab": {
          "base_uri": "https://localhost:8080/"
        },
        "id": "uf1qKLU4ukNC",
        "outputId": "92307b52-758c-46f5-98e7-9c7fbad21de0"
      },
      "execution_count": 28,
      "outputs": [
        {
          "output_type": "stream",
          "name": "stdout",
          "text": [
            "Epoch 4/20\n",
            "1875/1875 [==============================] - 26s 13ms/step - loss: 0.2040 - accuracy: 0.9240 - val_loss: 0.2569 - val_accuracy: 0.9082\n",
            "Epoch 5/20\n",
            "1875/1875 [==============================] - 23s 12ms/step - loss: 0.1706 - accuracy: 0.9385 - val_loss: 0.2687 - val_accuracy: 0.9041\n",
            "Epoch 6/20\n",
            "1875/1875 [==============================] - 23s 12ms/step - loss: 0.1445 - accuracy: 0.9474 - val_loss: 0.2591 - val_accuracy: 0.9082\n",
            "Epoch 7/20\n",
            "1875/1875 [==============================] - 27s 15ms/step - loss: 0.1210 - accuracy: 0.9568 - val_loss: 0.2677 - val_accuracy: 0.9064\n",
            "Epoch 8/20\n",
            "1875/1875 [==============================] - 26s 14ms/step - loss: 0.1020 - accuracy: 0.9633 - val_loss: 0.2523 - val_accuracy: 0.9146\n",
            "Epoch 9/20\n",
            "1875/1875 [==============================] - 24s 13ms/step - loss: 0.0856 - accuracy: 0.9707 - val_loss: 0.2509 - val_accuracy: 0.9147\n",
            "Epoch 10/20\n",
            "1875/1875 [==============================] - 23s 12ms/step - loss: 0.0716 - accuracy: 0.9761 - val_loss: 0.2638 - val_accuracy: 0.9159\n",
            "Epoch 11/20\n",
            "1875/1875 [==============================] - 23s 12ms/step - loss: 0.0619 - accuracy: 0.9787 - val_loss: 0.2778 - val_accuracy: 0.9123\n",
            "Epoch 12/20\n",
            "1875/1875 [==============================] - 24s 13ms/step - loss: 0.0549 - accuracy: 0.9821 - val_loss: 0.2791 - val_accuracy: 0.9133\n",
            "Epoch 13/20\n",
            "1875/1875 [==============================] - 24s 13ms/step - loss: 0.0469 - accuracy: 0.9846 - val_loss: 0.3127 - val_accuracy: 0.9088\n",
            "Epoch 14/20\n",
            "1875/1875 [==============================] - 23s 12ms/step - loss: 0.0417 - accuracy: 0.9868 - val_loss: 0.3017 - val_accuracy: 0.9111\n",
            "Epoch 15/20\n",
            "1875/1875 [==============================] - 23s 12ms/step - loss: 0.0383 - accuracy: 0.9880 - val_loss: 0.3190 - val_accuracy: 0.9097\n",
            "Epoch 16/20\n",
            "1875/1875 [==============================] - 23s 12ms/step - loss: 0.0359 - accuracy: 0.9886 - val_loss: 0.3251 - val_accuracy: 0.9099\n",
            "Epoch 17/20\n",
            "1875/1875 [==============================] - 24s 13ms/step - loss: 0.0331 - accuracy: 0.9896 - val_loss: 0.3344 - val_accuracy: 0.9092\n",
            "Epoch 18/20\n",
            "1875/1875 [==============================] - 23s 12ms/step - loss: 0.0291 - accuracy: 0.9908 - val_loss: 0.3334 - val_accuracy: 0.9104\n",
            "Epoch 19/20\n",
            "1875/1875 [==============================] - 24s 13ms/step - loss: 0.0259 - accuracy: 0.9921 - val_loss: 0.3544 - val_accuracy: 0.9072\n",
            "Epoch 20/20\n",
            "1875/1875 [==============================] - 23s 12ms/step - loss: 0.0277 - accuracy: 0.9913 - val_loss: 0.3665 - val_accuracy: 0.9085\n"
          ]
        },
        {
          "output_type": "execute_result",
          "data": {
            "text/plain": [
              "<keras.src.callbacks.History at 0x7a0fa05ee650>"
            ]
          },
          "metadata": {},
          "execution_count": 28
        }
      ]
    },
    {
      "cell_type": "code",
      "source": [
        "score = model.evaluate(x_test,y_test)\n",
        "score2 = m.evaluate(x_test,y_test)"
      ],
      "metadata": {
        "colab": {
          "base_uri": "https://localhost:8080/"
        },
        "id": "arKfbWdZ1Ltm",
        "outputId": "783d7eda-34e0-41be-a818-16c3af903358"
      },
      "execution_count": 29,
      "outputs": [
        {
          "output_type": "stream",
          "name": "stdout",
          "text": [
            "313/313 [==============================] - 2s 5ms/step - loss: 0.2522 - accuracy: 0.9071\n",
            "313/313 [==============================] - 2s 5ms/step - loss: 0.3665 - accuracy: 0.9085\n"
          ]
        }
      ]
    },
    {
      "cell_type": "code",
      "source": [
        "print(f\"Accuracy of the model with 5 epochs is: {score[1]*100:0.2f}%\") #0.9010 <- old accuracy (with less neurons in each layer)\n",
        "print(f\"Accuracy of the model with 20 epochs is: {score2[1]*100:0.2f}%\")"
      ],
      "metadata": {
        "colab": {
          "base_uri": "https://localhost:8080/"
        },
        "id": "WqhSqJtH1bQV",
        "outputId": "7927b090-56c6-4f74-8879-23964903314c"
      },
      "execution_count": 30,
      "outputs": [
        {
          "output_type": "stream",
          "name": "stdout",
          "text": [
            "Accuracy of the model with 5 epochs is: 90.71%\n",
            "Accuracy of the model with 20 epochs is: 90.85%\n"
          ]
        }
      ]
    },
    {
      "cell_type": "markdown",
      "source": [
        "# **Making Predictions**"
      ],
      "metadata": {
        "id": "hrUp93lswfhC"
      }
    },
    {
      "cell_type": "markdown",
      "source": [
        "## **Original Image:**"
      ],
      "metadata": {
        "id": "yz6Dm7IU8YIC"
      }
    },
    {
      "cell_type": "code",
      "source": [
        "org_img = cv.imread('/content/T_org.jpg')"
      ],
      "metadata": {
        "id": "Wh8ux8tT8cap"
      },
      "execution_count": 152,
      "outputs": []
    },
    {
      "cell_type": "code",
      "source": [
        "plt.xticks([])\n",
        "plt.yticks([])\n",
        "plt.imshow(org_img,cmap=plt.cm.binary)"
      ],
      "metadata": {
        "colab": {
          "base_uri": "https://localhost:8080/",
          "height": 423
        },
        "id": "GNmpYOwX8qae",
        "outputId": "b04a2d8c-011a-470c-d999-70dad5be26e6"
      },
      "execution_count": 153,
      "outputs": [
        {
          "output_type": "execute_result",
          "data": {
            "text/plain": [
              "<matplotlib.image.AxesImage at 0x7a0f2eb5e350>"
            ]
          },
          "metadata": {},
          "execution_count": 153
        },
        {
          "output_type": "display_data",
          "data": {
            "text/plain": [
              "<Figure size 640x480 with 1 Axes>"
            ],
            "image/png": "[encoded data removed]"
          },
          "metadata": {}
        }
      ]
    },
    {
      "cell_type": "markdown",
      "source": [
        "## **Plotting the resized image**"
      ],
      "metadata": {
        "id": "7FyAZQPI8ugC"
      }
    },
    {
      "cell_type": "code",
      "source": [
        "img = cv.imread('/content/Trousers.jpg')"
      ],
      "metadata": {
        "id": "VvkOcRTqzTop"
      },
      "execution_count": 154,
      "outputs": []
    },
    {
      "cell_type": "code",
      "source": [
        "plt.xticks([])\n",
        "plt.yticks([])\n",
        "plt.imshow(img,cmap=plt.cm.binary)"
      ],
      "metadata": {
        "colab": {
          "base_uri": "https://localhost:8080/",
          "height": 423
        },
        "id": "unxsZoHLzWXg",
        "outputId": "c8e62eee-5934-4343-bf7d-c1feb4ab3902"
      },
      "execution_count": 155,
      "outputs": [
        {
          "output_type": "execute_result",
          "data": {
            "text/plain": [
              "<matplotlib.image.AxesImage at 0x7a0f2eb5ea70>"
            ]
          },
          "metadata": {},
          "execution_count": 155
        },
        {
          "output_type": "display_data",
          "data": {
            "text/plain": [
              "<Figure size 640x480 with 1 Axes>"
            ],
            "image/png": "[encoded data removed]"
          },
          "metadata": {}
        }
      ]
    },
    {
      "cell_type": "code",
      "source": [
        "img.shape"
      ],
      "metadata": {
        "colab": {
          "base_uri": "https://localhost:8080/"
        },
        "id": "_2PClcVHzY6p",
        "outputId": "a86fe34a-9ad6-4916-a62d-52034c0b58ec"
      },
      "execution_count": 156,
      "outputs": [
        {
          "output_type": "execute_result",
          "data": {
            "text/plain": [
              "(28, 28, 3)"
            ]
          },
          "metadata": {},
          "execution_count": 156
        }
      ]
    },
    {
      "cell_type": "markdown",
      "source": [
        "## **Making it a Grayscale image:**"
      ],
      "metadata": {
        "id": "UaOFMIqRzbqB"
      }
    },
    {
      "cell_type": "code",
      "source": [
        "img = cv.imread('/content/Trousers.jpg', 0)"
      ],
      "metadata": {
        "id": "W294iD9T6Brr"
      },
      "execution_count": 157,
      "outputs": []
    },
    {
      "cell_type": "code",
      "source": [
        "img = cv.resize(img, (28, 28))"
      ],
      "metadata": {
        "id": "P4BV2Z1i6CHs"
      },
      "execution_count": 158,
      "outputs": []
    },
    {
      "cell_type": "code",
      "source": [
        "plt.xticks([])\n",
        "plt.yticks([])\n",
        "plt.imshow(img,cmap=plt.cm.binary)"
      ],
      "metadata": {
        "colab": {
          "base_uri": "https://localhost:8080/",
          "height": 423
        },
        "id": "IenKBbmB7XV7",
        "outputId": "2614eb4c-388f-440c-d585-e89a16e1b958"
      },
      "execution_count": 159,
      "outputs": [
        {
          "output_type": "execute_result",
          "data": {
            "text/plain": [
              "<matplotlib.image.AxesImage at 0x7a0f2eb5e5f0>"
            ]
          },
          "metadata": {},
          "execution_count": 159
        },
        {
          "output_type": "display_data",
          "data": {
            "text/plain": [
              "<Figure size 640x480 with 1 Axes>"
            ],
            "image/png": "[encoded data removed]"
          },
          "metadata": {}
        }
      ]
    },
    {
      "cell_type": "code",
      "source": [
        "img = img / 255.0"
      ],
      "metadata": {
        "id": "hih1HYs76C8w"
      },
      "execution_count": 160,
      "outputs": []
    },
    {
      "cell_type": "code",
      "source": [
        "img = np.expand_dims(img, axis=0)"
      ],
      "metadata": {
        "id": "bKFoJ1IH6DKb"
      },
      "execution_count": 161,
      "outputs": []
    },
    {
      "cell_type": "code",
      "source": [
        "img.shape"
      ],
      "metadata": {
        "colab": {
          "base_uri": "https://localhost:8080/"
        },
        "id": "Zh4_BMuh7ajA",
        "outputId": "2561dff4-57a8-43b2-c784-7a544b807f1a"
      },
      "execution_count": 162,
      "outputs": [
        {
          "output_type": "execute_result",
          "data": {
            "text/plain": [
              "(1, 28, 28)"
            ]
          },
          "metadata": {},
          "execution_count": 162
        }
      ]
    },
    {
      "cell_type": "code",
      "source": [
        "pred = m.predict(img)"
      ],
      "metadata": {
        "colab": {
          "base_uri": "https://localhost:8080/"
        },
        "id": "VtHMzWEH5zsN",
        "outputId": "19986a25-7b1b-4ca0-a726-ef138f4599e7"
      },
      "execution_count": 163,
      "outputs": [
        {
          "output_type": "stream",
          "name": "stdout",
          "text": [
            "1/1 [==============================] - 0s 19ms/step\n"
          ]
        }
      ]
    },
    {
      "cell_type": "code",
      "source": [
        "index = np.argmax(pred)\n",
        "print(index)"
      ],
      "metadata": {
        "colab": {
          "base_uri": "https://localhost:8080/"
        },
        "id": "BQPwTjgl6Ons",
        "outputId": "6caf6d35-f828-4a82-d058-cfee5e67fbdb"
      },
      "execution_count": 164,
      "outputs": [
        {
          "output_type": "stream",
          "name": "stdout",
          "text": [
            "1\n"
          ]
        }
      ]
    },
    {
      "cell_type": "code",
      "source": [
        "print(f\"predicted Fashion item is: {class_names[index]}\")"
      ],
      "metadata": {
        "colab": {
          "base_uri": "https://localhost:8080/"
        },
        "id": "rUgHYKYx6ZJ8",
        "outputId": "ff1e3466-3572-483c-bb1c-143e75433f71"
      },
      "execution_count": 166,
      "outputs": [
        {
          "output_type": "stream",
          "name": "stdout",
          "text": [
            "predicted Fashion item is: Trouser\n"
          ]
        }
      ]
    }
  ]
}